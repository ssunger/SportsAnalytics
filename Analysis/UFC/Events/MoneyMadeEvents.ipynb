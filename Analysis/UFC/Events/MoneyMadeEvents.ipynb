{
 "cells": [
  {
   "cell_type": "code",
   "execution_count": 3,
   "metadata": {},
   "outputs": [],
   "source": [
    "import pandas as pd\n",
    "import requests\n",
    "from bs4 import BeautifulSoup\n",
    "import numpy as np\n",
    "from time import sleep\n",
    "\n",
    "website = lambda start, end: [f\"https://en.wikipedia.org/wiki/UFC_{i}\" for i in range(start, end+1)]\n",
    "    \n",
    "def get_top_level_data(end, start=20, get_fight_card_stats=False, both=True, avg_pause=.6):\n",
    "    \"\"\"\n",
    "    \n",
    "    @param end: integer\n",
    "    @param start : integer\n",
    "    @param get_fight_card_stats : \n",
    "    @param both : boolean\n",
    "    @param avg_pause : float\n",
    "    \"\"\"\n",
    "            \n",
    "    def add_d_set(df_use, name):\n",
    "        df = df_use.copy()\n",
    "        df.insert(0, \"Event\", f\"UFC{name.split('_')[-1]}\")\n",
    "        df.columns =[\"Event\", \"Cat\", \"Value\", \"NA\"]\n",
    "        return df\n",
    "    \n",
    "    vals = website(start, end)\n",
    "    rets_df = []\n",
    "    if both:\n",
    "        rets_df_2 = []\n",
    "\n",
    "    \n",
    "    for j, pause in zip(vals, np.random.poisson(avg_pause, len(vals))):\n",
    "        if get_fight_card_stats and not both:\n",
    "            rets_df.append(add_d_set(pd.read_html(j)[2], j))\n",
    "        elif get_fight_card_stats and both:\n",
    "            d = pd.read_html(j)\n",
    "            rets_df.append(add_d_set(d[2], j))\n",
    "            rets_df_2.append(add_d_set(d[0], j))\n",
    "        else:\n",
    "            rets_df.append(add_d_set(pd.read_html(j)[0], j))\n",
    "        sleep(pause)\n",
    "    return pd.concat(rets_df, axis=0)"
   ]
  },
  {
   "cell_type": "code",
   "execution_count": null,
   "metadata": {},
   "outputs": [],
   "source": [
    "!pip install plotly"
   ]
  },
  {
   "cell_type": "code",
   "execution_count": 4,
   "metadata": {
    "scrolled": true
   },
   "outputs": [
    {
     "name": "stdout",
     "output_type": "stream",
     "text": [
      "https://en.wikipedia.org/wiki/UFC_150\n",
      "https://en.wikipedia.org/wiki/UFC_151\n",
      "https://en.wikipedia.org/wiki/UFC_152\n",
      "https://en.wikipedia.org/wiki/UFC_153\n",
      "https://en.wikipedia.org/wiki/UFC_154\n",
      "https://en.wikipedia.org/wiki/UFC_155\n",
      "https://en.wikipedia.org/wiki/UFC_156\n",
      "https://en.wikipedia.org/wiki/UFC_157\n",
      "https://en.wikipedia.org/wiki/UFC_158\n",
      "https://en.wikipedia.org/wiki/UFC_159\n",
      "https://en.wikipedia.org/wiki/UFC_160\n",
      "https://en.wikipedia.org/wiki/UFC_161\n",
      "https://en.wikipedia.org/wiki/UFC_162\n",
      "https://en.wikipedia.org/wiki/UFC_163\n",
      "https://en.wikipedia.org/wiki/UFC_164\n",
      "https://en.wikipedia.org/wiki/UFC_165\n",
      "https://en.wikipedia.org/wiki/UFC_166\n",
      "https://en.wikipedia.org/wiki/UFC_167\n",
      "https://en.wikipedia.org/wiki/UFC_168\n",
      "https://en.wikipedia.org/wiki/UFC_169\n",
      "https://en.wikipedia.org/wiki/UFC_170\n",
      "https://en.wikipedia.org/wiki/UFC_171\n",
      "https://en.wikipedia.org/wiki/UFC_172\n",
      "https://en.wikipedia.org/wiki/UFC_173\n",
      "https://en.wikipedia.org/wiki/UFC_174\n",
      "https://en.wikipedia.org/wiki/UFC_175\n",
      "https://en.wikipedia.org/wiki/UFC_176\n",
      "https://en.wikipedia.org/wiki/UFC_177\n",
      "https://en.wikipedia.org/wiki/UFC_178\n",
      "https://en.wikipedia.org/wiki/UFC_179\n",
      "https://en.wikipedia.org/wiki/UFC_180\n",
      "https://en.wikipedia.org/wiki/UFC_181\n",
      "https://en.wikipedia.org/wiki/UFC_182\n",
      "https://en.wikipedia.org/wiki/UFC_183\n",
      "https://en.wikipedia.org/wiki/UFC_184\n",
      "https://en.wikipedia.org/wiki/UFC_185\n",
      "https://en.wikipedia.org/wiki/UFC_186\n",
      "https://en.wikipedia.org/wiki/UFC_187\n",
      "https://en.wikipedia.org/wiki/UFC_188\n",
      "https://en.wikipedia.org/wiki/UFC_189\n",
      "https://en.wikipedia.org/wiki/UFC_190\n",
      "https://en.wikipedia.org/wiki/UFC_191\n",
      "https://en.wikipedia.org/wiki/UFC_192\n",
      "https://en.wikipedia.org/wiki/UFC_193\n",
      "https://en.wikipedia.org/wiki/UFC_194\n",
      "https://en.wikipedia.org/wiki/UFC_195\n",
      "https://en.wikipedia.org/wiki/UFC_196\n",
      "https://en.wikipedia.org/wiki/UFC_197\n",
      "https://en.wikipedia.org/wiki/UFC_198\n",
      "https://en.wikipedia.org/wiki/UFC_199\n",
      "https://en.wikipedia.org/wiki/UFC_200\n",
      "https://en.wikipedia.org/wiki/UFC_201\n",
      "https://en.wikipedia.org/wiki/UFC_202\n",
      "https://en.wikipedia.org/wiki/UFC_203\n",
      "https://en.wikipedia.org/wiki/UFC_204\n",
      "https://en.wikipedia.org/wiki/UFC_205\n",
      "https://en.wikipedia.org/wiki/UFC_206\n",
      "https://en.wikipedia.org/wiki/UFC_207\n",
      "https://en.wikipedia.org/wiki/UFC_208\n",
      "https://en.wikipedia.org/wiki/UFC_209\n",
      "https://en.wikipedia.org/wiki/UFC_210\n",
      "https://en.wikipedia.org/wiki/UFC_211\n",
      "https://en.wikipedia.org/wiki/UFC_212\n",
      "https://en.wikipedia.org/wiki/UFC_213\n",
      "https://en.wikipedia.org/wiki/UFC_214\n",
      "https://en.wikipedia.org/wiki/UFC_215\n",
      "https://en.wikipedia.org/wiki/UFC_216\n",
      "https://en.wikipedia.org/wiki/UFC_217\n",
      "https://en.wikipedia.org/wiki/UFC_218\n",
      "https://en.wikipedia.org/wiki/UFC_219\n",
      "https://en.wikipedia.org/wiki/UFC_220\n",
      "https://en.wikipedia.org/wiki/UFC_221\n",
      "https://en.wikipedia.org/wiki/UFC_222\n",
      "https://en.wikipedia.org/wiki/UFC_223\n",
      "https://en.wikipedia.org/wiki/UFC_224\n",
      "https://en.wikipedia.org/wiki/UFC_225\n",
      "https://en.wikipedia.org/wiki/UFC_226\n",
      "https://en.wikipedia.org/wiki/UFC_227\n",
      "https://en.wikipedia.org/wiki/UFC_228\n",
      "https://en.wikipedia.org/wiki/UFC_229\n",
      "https://en.wikipedia.org/wiki/UFC_230\n",
      "https://en.wikipedia.org/wiki/UFC_231\n",
      "https://en.wikipedia.org/wiki/UFC_232\n",
      "https://en.wikipedia.org/wiki/UFC_233\n",
      "https://en.wikipedia.org/wiki/UFC_234\n",
      "https://en.wikipedia.org/wiki/UFC_235\n",
      "https://en.wikipedia.org/wiki/UFC_236\n",
      "https://en.wikipedia.org/wiki/UFC_237\n",
      "https://en.wikipedia.org/wiki/UFC_238\n",
      "https://en.wikipedia.org/wiki/UFC_239\n",
      "https://en.wikipedia.org/wiki/UFC_240\n",
      "https://en.wikipedia.org/wiki/UFC_241\n",
      "https://en.wikipedia.org/wiki/UFC_242\n",
      "https://en.wikipedia.org/wiki/UFC_243\n",
      "https://en.wikipedia.org/wiki/UFC_244\n",
      "https://en.wikipedia.org/wiki/UFC_245\n",
      "https://en.wikipedia.org/wiki/UFC_246\n",
      "https://en.wikipedia.org/wiki/UFC_247\n",
      "https://en.wikipedia.org/wiki/UFC_248\n",
      "https://en.wikipedia.org/wiki/UFC_249\n",
      "https://en.wikipedia.org/wiki/UFC_250\n",
      "https://en.wikipedia.org/wiki/UFC_251\n",
      "https://en.wikipedia.org/wiki/UFC_252\n",
      "https://en.wikipedia.org/wiki/UFC_253\n",
      "https://en.wikipedia.org/wiki/UFC_254\n",
      "https://en.wikipedia.org/wiki/UFC_255\n",
      "https://en.wikipedia.org/wiki/UFC_256\n",
      "https://en.wikipedia.org/wiki/UFC_257\n",
      "https://en.wikipedia.org/wiki/UFC_258\n",
      "https://en.wikipedia.org/wiki/UFC_259\n",
      "https://en.wikipedia.org/wiki/UFC_260\n",
      "https://en.wikipedia.org/wiki/UFC_261\n",
      "https://en.wikipedia.org/wiki/UFC_262\n",
      "https://en.wikipedia.org/wiki/UFC_263\n",
      "https://en.wikipedia.org/wiki/UFC_264\n",
      "https://en.wikipedia.org/wiki/UFC_265\n",
      "https://en.wikipedia.org/wiki/UFC_266\n"
     ]
    }
   ],
   "source": [
    "d = get_top_level_data(266, 150, avg_pause=.25)"
   ]
  },
  {
   "cell_type": "code",
   "execution_count": 36,
   "metadata": {},
   "outputs": [],
   "source": [
    "d_clean = d[d[\"Cat\"].isin([\"Total gate\", \"Date\"])].pivot(index=\"Event\", columns=\"Cat\", values= \"Value\").dropna()\n",
    "d_clean[\"Total gate\"] = d_clean[\"Total gate\"].apply(lambda x : str(x)[:-3])"
   ]
  },
  {
   "cell_type": "code",
   "execution_count": null,
   "metadata": {},
   "outputs": [],
   "source": [
    "def clean_millions(x):\n",
    "    if \"millions\" in x:\n",
    "        return str(float(x.split(\" \")[0])*1000000)\n",
    "    return x"
   ]
  },
  {
   "cell_type": "code",
   "execution_count": 45,
   "metadata": {},
   "outputs": [],
   "source": [
    "var_of_interest = \"Total gate\"\n",
    "d_clean = d[d[\"Cat\"].isin([var_of_interest, \"Date\"])].pivot(index=\"Event\", columns=\"Cat\", values= \"Value\").dropna()\n",
    "d_clean[var_of_interest] = d_clean[var_of_interest].apply(lambda x : str(x)[1:-3])\n",
    "d_clean[var_of_interest] = d_clean[var_of_interest].apply(lambda x: x.replace(\"2.5–$2.6 million\", \"2500000\"))\n",
    "d_clean[var_of_interest] = d_clean[var_of_interest].apply(clean_millions)\n",
    "d_clean[\"Total\"] = d_clean[var_of_interest].apply(lambda x : float(x.replace(\",\", \"\")))\n",
    "d_clean[\"UFC\"] = d_clean.index.str.replace(\"UFC\", \"\")"
   ]
  },
  {
   "cell_type": "code",
   "execution_count": null,
   "metadata": {},
   "outputs": [],
   "source": []
  },
  {
   "cell_type": "code",
   "execution_count": 46,
   "metadata": {},
   "outputs": [
    {
     "data": {
      "text/plain": [
       "<matplotlib.axes._subplots.AxesSubplot at 0x7fd3ee7bb510>"
      ]
     },
     "execution_count": 46,
     "metadata": {},
     "output_type": "execute_result"
    },
    {
     "data": {
      "image/png": "[encoded data removed]",
      "text/plain": [
       "<Figure size 432x288 with 1 Axes>"
      ]
     },
     "metadata": {
      "needs_background": "light"
     },
     "output_type": "display_data"
    }
   ],
   "source": [
    "d_clean[[\"UFC\", \"Total\"]].set_index(\"UFC\").plot()"
   ]
  },
  {
   "cell_type": "code",
   "execution_count": 50,
   "metadata": {},
   "outputs": [
    {
     "ename": "ValueError",
     "evalue": "could not convert string to float: '05000[2]'",
     "output_type": "error",
     "traceback": [
      "\u001b[0;31m---------------------------------------------------------------------------\u001b[0m",
      "\u001b[0;31mValueError\u001b[0m                                Traceback (most recent call last)",
      "\u001b[0;32m<ipython-input-50-43e754bc701e>\u001b[0m in \u001b[0;36m<module>\u001b[0;34m\u001b[0m\n\u001b[1;32m      4\u001b[0m \u001b[0md_clean\u001b[0m\u001b[0;34m[\u001b[0m\u001b[0mvar_of_interest\u001b[0m\u001b[0;34m]\u001b[0m \u001b[0;34m=\u001b[0m \u001b[0md_clean\u001b[0m\u001b[0;34m[\u001b[0m\u001b[0mvar_of_interest\u001b[0m\u001b[0;34m]\u001b[0m\u001b[0;34m.\u001b[0m\u001b[0mapply\u001b[0m\u001b[0;34m(\u001b[0m\u001b[0;32mlambda\u001b[0m \u001b[0mx\u001b[0m\u001b[0;34m:\u001b[0m \u001b[0mx\u001b[0m\u001b[0;34m.\u001b[0m\u001b[0mreplace\u001b[0m\u001b[0;34m(\u001b[0m\u001b[0;34m\"2.5–$2.6 million\"\u001b[0m\u001b[0;34m,\u001b[0m \u001b[0;34m\"2500000\"\u001b[0m\u001b[0;34m)\u001b[0m\u001b[0;34m)\u001b[0m\u001b[0;34m\u001b[0m\u001b[0;34m\u001b[0m\u001b[0m\n\u001b[1;32m      5\u001b[0m \u001b[0md_clean\u001b[0m\u001b[0;34m[\u001b[0m\u001b[0mvar_of_interest\u001b[0m\u001b[0;34m]\u001b[0m \u001b[0;34m=\u001b[0m \u001b[0md_clean\u001b[0m\u001b[0;34m[\u001b[0m\u001b[0mvar_of_interest\u001b[0m\u001b[0;34m]\u001b[0m\u001b[0;34m.\u001b[0m\u001b[0mapply\u001b[0m\u001b[0;34m(\u001b[0m\u001b[0mclean_millions\u001b[0m\u001b[0;34m)\u001b[0m\u001b[0;34m\u001b[0m\u001b[0;34m\u001b[0m\u001b[0m\n\u001b[0;32m----> 6\u001b[0;31m \u001b[0md_clean\u001b[0m\u001b[0;34m[\u001b[0m\u001b[0;34m\"Total\"\u001b[0m\u001b[0;34m]\u001b[0m \u001b[0;34m=\u001b[0m \u001b[0md_clean\u001b[0m\u001b[0;34m[\u001b[0m\u001b[0mvar_of_interest\u001b[0m\u001b[0;34m]\u001b[0m\u001b[0;34m.\u001b[0m\u001b[0mapply\u001b[0m\u001b[0;34m(\u001b[0m\u001b[0;32mlambda\u001b[0m \u001b[0mx\u001b[0m \u001b[0;34m:\u001b[0m \u001b[0mfloat\u001b[0m\u001b[0;34m(\u001b[0m\u001b[0mx\u001b[0m\u001b[0;34m.\u001b[0m\u001b[0mreplace\u001b[0m\u001b[0;34m(\u001b[0m\u001b[0;34m\",\"\u001b[0m\u001b[0;34m,\u001b[0m \u001b[0;34m\"\"\u001b[0m\u001b[0;34m)\u001b[0m\u001b[0;34m)\u001b[0m\u001b[0;34m)\u001b[0m\u001b[0;34m\u001b[0m\u001b[0;34m\u001b[0m\u001b[0m\n\u001b[0m\u001b[1;32m      7\u001b[0m \u001b[0md_clean\u001b[0m\u001b[0;34m[\u001b[0m\u001b[0;34m\"UFC\"\u001b[0m\u001b[0;34m]\u001b[0m \u001b[0;34m=\u001b[0m \u001b[0md_clean\u001b[0m\u001b[0;34m.\u001b[0m\u001b[0mindex\u001b[0m\u001b[0;34m.\u001b[0m\u001b[0mstr\u001b[0m\u001b[0;34m.\u001b[0m\u001b[0mreplace\u001b[0m\u001b[0;34m(\u001b[0m\u001b[0;34m\"UFC\"\u001b[0m\u001b[0;34m,\u001b[0m \u001b[0;34m\"\"\u001b[0m\u001b[0;34m)\u001b[0m\u001b[0;34m\u001b[0m\u001b[0;34m\u001b[0m\u001b[0m\n",
      "\u001b[0;32m/opt/anaconda3/lib/python3.7/site-packages/pandas/core/series.py\u001b[0m in \u001b[0;36mapply\u001b[0;34m(self, func, convert_dtype, args, **kwds)\u001b[0m\n\u001b[1;32m   3846\u001b[0m             \u001b[0;32melse\u001b[0m\u001b[0;34m:\u001b[0m\u001b[0;34m\u001b[0m\u001b[0;34m\u001b[0m\u001b[0m\n\u001b[1;32m   3847\u001b[0m                 \u001b[0mvalues\u001b[0m \u001b[0;34m=\u001b[0m \u001b[0mself\u001b[0m\u001b[0;34m.\u001b[0m\u001b[0mastype\u001b[0m\u001b[0;34m(\u001b[0m\u001b[0mobject\u001b[0m\u001b[0;34m)\u001b[0m\u001b[0;34m.\u001b[0m\u001b[0mvalues\u001b[0m\u001b[0;34m\u001b[0m\u001b[0;34m\u001b[0m\u001b[0m\n\u001b[0;32m-> 3848\u001b[0;31m                 \u001b[0mmapped\u001b[0m \u001b[0;34m=\u001b[0m \u001b[0mlib\u001b[0m\u001b[0;34m.\u001b[0m\u001b[0mmap_infer\u001b[0m\u001b[0;34m(\u001b[0m\u001b[0mvalues\u001b[0m\u001b[0;34m,\u001b[0m \u001b[0mf\u001b[0m\u001b[0;34m,\u001b[0m \u001b[0mconvert\u001b[0m\u001b[0;34m=\u001b[0m\u001b[0mconvert_dtype\u001b[0m\u001b[0;34m)\u001b[0m\u001b[0;34m\u001b[0m\u001b[0;34m\u001b[0m\u001b[0m\n\u001b[0m\u001b[1;32m   3849\u001b[0m \u001b[0;34m\u001b[0m\u001b[0m\n\u001b[1;32m   3850\u001b[0m         \u001b[0;32mif\u001b[0m \u001b[0mlen\u001b[0m\u001b[0;34m(\u001b[0m\u001b[0mmapped\u001b[0m\u001b[0;34m)\u001b[0m \u001b[0;32mand\u001b[0m \u001b[0misinstance\u001b[0m\u001b[0;34m(\u001b[0m\u001b[0mmapped\u001b[0m\u001b[0;34m[\u001b[0m\u001b[0;36m0\u001b[0m\u001b[0;34m]\u001b[0m\u001b[0;34m,\u001b[0m \u001b[0mSeries\u001b[0m\u001b[0;34m)\u001b[0m\u001b[0;34m:\u001b[0m\u001b[0;34m\u001b[0m\u001b[0;34m\u001b[0m\u001b[0m\n",
      "\u001b[0;32mpandas/_libs/lib.pyx\u001b[0m in \u001b[0;36mpandas._libs.lib.map_infer\u001b[0;34m()\u001b[0m\n",
      "\u001b[0;32m<ipython-input-50-43e754bc701e>\u001b[0m in \u001b[0;36m<lambda>\u001b[0;34m(x)\u001b[0m\n\u001b[1;32m      4\u001b[0m \u001b[0md_clean\u001b[0m\u001b[0;34m[\u001b[0m\u001b[0mvar_of_interest\u001b[0m\u001b[0;34m]\u001b[0m \u001b[0;34m=\u001b[0m \u001b[0md_clean\u001b[0m\u001b[0;34m[\u001b[0m\u001b[0mvar_of_interest\u001b[0m\u001b[0;34m]\u001b[0m\u001b[0;34m.\u001b[0m\u001b[0mapply\u001b[0m\u001b[0;34m(\u001b[0m\u001b[0;32mlambda\u001b[0m \u001b[0mx\u001b[0m\u001b[0;34m:\u001b[0m \u001b[0mx\u001b[0m\u001b[0;34m.\u001b[0m\u001b[0mreplace\u001b[0m\u001b[0;34m(\u001b[0m\u001b[0;34m\"2.5–$2.6 million\"\u001b[0m\u001b[0;34m,\u001b[0m \u001b[0;34m\"2500000\"\u001b[0m\u001b[0;34m)\u001b[0m\u001b[0;34m)\u001b[0m\u001b[0;34m\u001b[0m\u001b[0;34m\u001b[0m\u001b[0m\n\u001b[1;32m      5\u001b[0m \u001b[0md_clean\u001b[0m\u001b[0;34m[\u001b[0m\u001b[0mvar_of_interest\u001b[0m\u001b[0;34m]\u001b[0m \u001b[0;34m=\u001b[0m \u001b[0md_clean\u001b[0m\u001b[0;34m[\u001b[0m\u001b[0mvar_of_interest\u001b[0m\u001b[0;34m]\u001b[0m\u001b[0;34m.\u001b[0m\u001b[0mapply\u001b[0m\u001b[0;34m(\u001b[0m\u001b[0mclean_millions\u001b[0m\u001b[0;34m)\u001b[0m\u001b[0;34m\u001b[0m\u001b[0;34m\u001b[0m\u001b[0m\n\u001b[0;32m----> 6\u001b[0;31m \u001b[0md_clean\u001b[0m\u001b[0;34m[\u001b[0m\u001b[0;34m\"Total\"\u001b[0m\u001b[0;34m]\u001b[0m \u001b[0;34m=\u001b[0m \u001b[0md_clean\u001b[0m\u001b[0;34m[\u001b[0m\u001b[0mvar_of_interest\u001b[0m\u001b[0;34m]\u001b[0m\u001b[0;34m.\u001b[0m\u001b[0mapply\u001b[0m\u001b[0;34m(\u001b[0m\u001b[0;32mlambda\u001b[0m \u001b[0mx\u001b[0m \u001b[0;34m:\u001b[0m \u001b[0mfloat\u001b[0m\u001b[0;34m(\u001b[0m\u001b[0mx\u001b[0m\u001b[0;34m.\u001b[0m\u001b[0mreplace\u001b[0m\u001b[0;34m(\u001b[0m\u001b[0;34m\",\"\u001b[0m\u001b[0;34m,\u001b[0m \u001b[0;34m\"\"\u001b[0m\u001b[0;34m)\u001b[0m\u001b[0;34m)\u001b[0m\u001b[0;34m)\u001b[0m\u001b[0;34m\u001b[0m\u001b[0;34m\u001b[0m\u001b[0m\n\u001b[0m\u001b[1;32m      7\u001b[0m \u001b[0md_clean\u001b[0m\u001b[0;34m[\u001b[0m\u001b[0;34m\"UFC\"\u001b[0m\u001b[0;34m]\u001b[0m \u001b[0;34m=\u001b[0m \u001b[0md_clean\u001b[0m\u001b[0;34m.\u001b[0m\u001b[0mindex\u001b[0m\u001b[0;34m.\u001b[0m\u001b[0mstr\u001b[0m\u001b[0;34m.\u001b[0m\u001b[0mreplace\u001b[0m\u001b[0;34m(\u001b[0m\u001b[0;34m\"UFC\"\u001b[0m\u001b[0;34m,\u001b[0m \u001b[0;34m\"\"\u001b[0m\u001b[0;34m)\u001b[0m\u001b[0;34m\u001b[0m\u001b[0;34m\u001b[0m\u001b[0m\n",
      "\u001b[0;31mValueError\u001b[0m: could not convert string to float: '05000[2]'"
     ]
    }
   ],
   "source": [
    "var_of_interest = \"Buyrate\"\n",
    "d_clean = d[d[\"Cat\"].isin([var_of_interest, \"Date\"])].pivot(index=\"Event\", columns=\"Cat\", values= \"Value\").dropna()\n",
    "d_clean[var_of_interest] = d_clean[var_of_interest].apply(lambda x : str(x)[1:-3])\n",
    "d_clean[var_of_interest] = d_clean[var_of_interest].apply(lambda x: x.replace(\"2.5–$2.6 million\", \"2500000\"))\n",
    "d_clean[var_of_interest] = d_clean[var_of_interest].apply(clean_millions)\n",
    "d_clean[\"Total\"] = d_clean[var_of_interest].apply(lambda x : float(x.replace(\",\", \"\")))\n",
    "d_clean[\"UFC\"] = d_clean.index.str.replace(\"UFC\", \"\")"
   ]
  },
  {
   "cell_type": "code",
   "execution_count": 51,
   "metadata": {},
   "outputs": [
    {
     "data": {
      "text/html": [
       "<div>\n",
       "<style scoped>\n",
       "    .dataframe tbody tr th:only-of-type {\n",
       "        vertical-align: middle;\n",
       "    }\n",
       "\n",
       "    .dataframe tbody tr th {\n",
       "        vertical-align: top;\n",
       "    }\n",
       "\n",
       "    .dataframe thead th {\n",
       "        text-align: right;\n",
       "    }\n",
       "</style>\n",
       "<table border=\"1\" class=\"dataframe\">\n",
       "  <thead>\n",
       "    <tr style=\"text-align: right;\">\n",
       "      <th>Cat</th>\n",
       "      <th>Buyrate</th>\n",
       "      <th>Date</th>\n",
       "    </tr>\n",
       "    <tr>\n",
       "      <th>Event</th>\n",
       "      <th></th>\n",
       "      <th></th>\n",
       "    </tr>\n",
       "  </thead>\n",
       "  <tbody>\n",
       "    <tr>\n",
       "      <th>UFC150</th>\n",
       "      <td>90,000</td>\n",
       "      <td>August 11, 2012</td>\n",
       "    </tr>\n",
       "    <tr>\n",
       "      <th>UFC152</th>\n",
       "      <td>50,000</td>\n",
       "      <td>September 22, 2012</td>\n",
       "    </tr>\n",
       "    <tr>\n",
       "      <th>UFC153</th>\n",
       "      <td>10,000</td>\n",
       "      <td>October 13, 2012</td>\n",
       "    </tr>\n",
       "    <tr>\n",
       "      <th>UFC154</th>\n",
       "      <td>00,000</td>\n",
       "      <td>November 17, 2012</td>\n",
       "    </tr>\n",
       "    <tr>\n",
       "      <th>UFC155</th>\n",
       "      <td>90,000</td>\n",
       "      <td>December 29, 2012</td>\n",
       "    </tr>\n",
       "    <tr>\n",
       "      <th>...</th>\n",
       "      <td>...</td>\n",
       "      <td>...</td>\n",
       "    </tr>\n",
       "    <tr>\n",
       "      <th>UFC253</th>\n",
       "      <td>00,000</td>\n",
       "      <td>September 27, 2020</td>\n",
       "    </tr>\n",
       "    <tr>\n",
       "      <th>UFC254</th>\n",
       "      <td>75,000</td>\n",
       "      <td>October 24, 2020</td>\n",
       "    </tr>\n",
       "    <tr>\n",
       "      <th>UFC257</th>\n",
       "      <td>,600,000</td>\n",
       "      <td>January 24, 2021</td>\n",
       "    </tr>\n",
       "    <tr>\n",
       "      <th>UFC259</th>\n",
       "      <td>00,000</td>\n",
       "      <td>March 6, 2021</td>\n",
       "    </tr>\n",
       "    <tr>\n",
       "      <th>UFC261</th>\n",
       "      <td>00,000</td>\n",
       "      <td>April 24, 2021</td>\n",
       "    </tr>\n",
       "  </tbody>\n",
       "</table>\n",
       "<p>86 rows × 2 columns</p>\n",
       "</div>"
      ],
      "text/plain": [
       "Cat      Buyrate                Date\n",
       "Event                               \n",
       "UFC150    90,000     August 11, 2012\n",
       "UFC152   50,000   September 22, 2012\n",
       "UFC153    10,000    October 13, 2012\n",
       "UFC154    00,000   November 17, 2012\n",
       "UFC155    90,000   December 29, 2012\n",
       "...          ...                 ...\n",
       "UFC253    00,000  September 27, 2020\n",
       "UFC254    75,000    October 24, 2020\n",
       "UFC257  ,600,000    January 24, 2021\n",
       "UFC259    00,000       March 6, 2021\n",
       "UFC261    00,000      April 24, 2021\n",
       "\n",
       "[86 rows x 2 columns]"
      ]
     },
     "execution_count": 51,
     "metadata": {},
     "output_type": "execute_result"
    }
   ],
   "source": [
    "d_clean"
   ]
  },
  {
   "cell_type": "code",
   "execution_count": null,
   "metadata": {},
   "outputs": [],
   "source": []
  }
 ],
 "metadata": {
  "kernelspec": {
   "display_name": "Python 3",
   "language": "python",
   "name": "python3"
  }
 },
 "nbformat": 4,
 "nbformat_minor": 1
}
